{
  "nbformat": 4,
  "nbformat_minor": 0,
  "metadata": {
    "colab": {
      "provenance": [],
      "authorship_tag": "ABX9TyOr78AADxo2k65hC2dOXg1V",
      "include_colab_link": true
    },
    "kernelspec": {
      "name": "python3",
      "display_name": "Python 3"
    },
    "language_info": {
      "name": "python"
    }
  },
  "cells": [
    {
      "cell_type": "markdown",
      "metadata": {
        "id": "view-in-github",
        "colab_type": "text"
      },
      "source": [
        "<a href=\"https://colab.research.google.com/github/Rabiya915/python_assignment_3/blob/main/Python_Assignment_3.ipynb\" target=\"_parent\"><img src=\"https://colab.research.google.com/assets/colab-badge.svg\" alt=\"Open In Colab\"/></a>"
      ]
    },
    {
      "cell_type": "markdown",
      "source": [
        "1.Explain the difference between if, elif, and else in Python.\n",
        "A.if: it evaluates the given condition and only if the condition is true it executes the block of code under it.\n",
        "elif: To check multiple conditions it is used, if \"if\" condition is false.\n",
        "else: if none of the conditions are true, then the else block will be executed."
      ],
      "metadata": {
        "id": "gtm8r_nxKo07"
      }
    },
    {
      "cell_type": "code",
      "source": [
        "def even_odd(x):\n",
        "  if x%2 == 0:\n",
        "    return \"even\"\n",
        "  else:\n",
        "    return  \"odd\""
      ],
      "metadata": {
        "id": "GAHQ8gOKMD5T"
      },
      "execution_count": null,
      "outputs": []
    },
    {
      "cell_type": "code",
      "source": [
        "Result = even_odd(6)\n",
        "print(Result)"
      ],
      "metadata": {
        "colab": {
          "base_uri": "https://localhost:8080/"
        },
        "id": "m4AWgDY7NqZg",
        "outputId": "3a9b8766-902c-4622-afc3-0150cfa3d49c"
      },
      "execution_count": null,
      "outputs": [
        {
          "output_type": "stream",
          "name": "stdout",
          "text": [
            "even\n"
          ]
        }
      ]
    },
    {
      "cell_type": "markdown",
      "source": [
        "Questions on For Loops"
      ],
      "metadata": {
        "id": "8ZKK4Ki4Oqf5"
      }
    },
    {
      "cell_type": "markdown",
      "source": [
        "3.for i in range(5):\n",
        "    print(i)\n",
        "A. The above code will return from 0 to 4 as the range starts from 0 with the default step size 1.So, it will print 5 elements from 0 to 4.    "
      ],
      "metadata": {
        "id": "83SwvN0AOzIe"
      }
    },
    {
      "cell_type": "code",
      "source": [
        "for i in range(5):\n",
        "    print(i)\n"
      ],
      "metadata": {
        "colab": {
          "base_uri": "https://localhost:8080/"
        },
        "id": "IEMBggaiNvio",
        "outputId": "e4e9b3b7-4c1a-465d-941b-bfae73d2e087"
      },
      "execution_count": null,
      "outputs": [
        {
          "output_type": "stream",
          "name": "stdout",
          "text": [
            "0\n",
            "1\n",
            "2\n",
            "3\n",
            "4\n"
          ]
        }
      ]
    },
    {
      "cell_type": "code",
      "source": [
        "numbers = [2, 3, 5, 7, 11, 13, 17, 19, 23, 29,25]\n",
        "for n in numbers:\n",
        "    c = 0\n",
        "    for i in range(1, n):\n",
        "         if n%i == 0:\n",
        "            c+=1\n",
        "    if c == 1:\n",
        "      print(n)"
      ],
      "metadata": {
        "colab": {
          "base_uri": "https://localhost:8080/"
        },
        "id": "ETWexXHdPODb",
        "outputId": "3a5b60b3-ef1c-4c01-d267-766ef26e0b25"
      },
      "execution_count": 71,
      "outputs": [
        {
          "output_type": "stream",
          "name": "stdout",
          "text": [
            "2\n",
            "3\n",
            "5\n",
            "7\n",
            "11\n",
            "13\n",
            "17\n",
            "19\n",
            "23\n",
            "29\n"
          ]
        }
      ]
    },
    {
      "cell_type": "markdown",
      "source": [
        "5.\tCan a while loop be used to iterate over a list? Provide an example.\n",
        "Yes."
      ],
      "metadata": {
        "id": "TJ3pTvnHTSwU"
      }
    },
    {
      "cell_type": "code",
      "source": [
        "lst = [1,0,3,9,55]\n",
        "i = 0\n",
        "while(i<len(lst)):\n",
        "     print(lst[i])\n",
        "     i = i +1"
      ],
      "metadata": {
        "colab": {
          "base_uri": "https://localhost:8080/"
        },
        "id": "ylPcZYrnT9Iv",
        "outputId": "1e243a8e-802a-4160-ebb1-64a4b0d54654"
      },
      "execution_count": null,
      "outputs": [
        {
          "output_type": "stream",
          "name": "stdout",
          "text": [
            "1\n",
            "0\n",
            "3\n",
            "9\n",
            "55\n"
          ]
        }
      ]
    },
    {
      "cell_type": "code",
      "source": [
        "while True:\n",
        "    name = input()\n",
        "    if name.lower() == \"quit\":\n",
        "        break\n",
        "\n",
        "\n"
      ],
      "metadata": {
        "colab": {
          "base_uri": "https://localhost:8080/"
        },
        "id": "DXkfkKoqVCZK",
        "outputId": "86658343-62ee-43c9-db7c-80d92ca580c8"
      },
      "execution_count": null,
      "outputs": [
        {
          "name": "stdout",
          "output_type": "stream",
          "text": [
            "RAM\n",
            "QUIT\n"
          ]
        }
      ]
    },
    {
      "cell_type": "markdown",
      "source": [
        "7.\tWhat is a function in Python and why is it useful?\n",
        "A. Function is a block of code that performs a specific task.It is mainly used for resuability so that as many as times we can use the entire code just by calling the function name."
      ],
      "metadata": {
        "id": "lSmRe2-lFQt7"
      }
    },
    {
      "cell_type": "code",
      "source": [
        "def max_of_three(x,y,z):\n",
        "  if(x>y) & (x>z):\n",
        "    return x\n",
        "  elif (y>x) & (y>z):\n",
        "    return y\n",
        "  else:\n",
        "    return z\n",
        "\n",
        "result = max_of_three(9,18,2)\n",
        "print(result)"
      ],
      "metadata": {
        "colab": {
          "base_uri": "https://localhost:8080/"
        },
        "id": "QTjvKjbbY8Cq",
        "outputId": "e07340cd-d512-4e02-9db2-a44b74112c88"
      },
      "execution_count": null,
      "outputs": [
        {
          "output_type": "stream",
          "name": "stdout",
          "text": [
            "18\n"
          ]
        }
      ]
    },
    {
      "cell_type": "markdown",
      "source": [
        "9.\tDescribe a scenario where a lambda function is more advantageous than a traditional function.\n",
        "A.Lambda functions in Python are anonymous, small, and simple functions that can be defined without the need for a formal def statement. They are used in situations where you need a small function for a short period of time.\n",
        "Instead of using block of statements like for loop, if...else.. we can use this print((lambda x: x if(x > 10) else 10)(12))."
      ],
      "metadata": {
        "id": "jVsjP2UlFr2w"
      }
    },
    {
      "cell_type": "code",
      "source": [
        "string = lambda name : name[::-1]\n",
        "print(string(\"Hello World\"))"
      ],
      "metadata": {
        "id": "es8f4VS-Zz_n",
        "colab": {
          "base_uri": "https://localhost:8080/"
        },
        "outputId": "06b5e647-5bc2-4e2c-c6e8-58bb5a906b74"
      },
      "execution_count": 2,
      "outputs": [
        {
          "output_type": "stream",
          "name": "stdout",
          "text": [
            "dlroW olleH\n"
          ]
        }
      ]
    },
    {
      "cell_type": "code",
      "source": [
        "string = input(\"Enter a string: \")\n",
        "if string == string[::-1]:\n",
        "  print(\"This is a Palindrome\")\n",
        "else:\n",
        "  print(\"This is not a palindrome\")"
      ],
      "metadata": {
        "colab": {
          "base_uri": "https://localhost:8080/"
        },
        "id": "sKLsyBPOuihI",
        "outputId": "678ee71d-a887-4659-e1ef-45ba1c099e20"
      },
      "execution_count": 5,
      "outputs": [
        {
          "output_type": "stream",
          "name": "stdout",
          "text": [
            "Enter a string: MADAM\n",
            "This is a Palindrome\n"
          ]
        }
      ]
    },
    {
      "cell_type": "code",
      "source": [
        "numbers = list(map(int, input(\"Enter the number: \").split()))\n",
        "sum = 0\n",
        "for i in numbers:\n",
        "  sum+= i\n",
        "print(\"The sum of numbers is:\",sum)\n",
        ""
      ],
      "metadata": {
        "colab": {
          "base_uri": "https://localhost:8080/"
        },
        "id": "bqrCT6QSvPqn",
        "outputId": "ab71713b-3968-4b0f-9c44-44d9591b3c8f"
      },
      "execution_count": 13,
      "outputs": [
        {
          "output_type": "stream",
          "name": "stdout",
          "text": [
            "Enter the number: 1 2 3 4 5 6 7 8 9 10\n",
            "The sum of numbers is: 55\n"
          ]
        }
      ]
    },
    {
      "cell_type": "code",
      "source": [
        "counter = 0\n",
        "while (counter<20):\n",
        "   counter+= 2\n",
        "   print(counter)"
      ],
      "metadata": {
        "colab": {
          "base_uri": "https://localhost:8080/"
        },
        "id": "uL5r0TTsw4Yz",
        "outputId": "db2e9c8d-4452-4a1b-b08a-6c4723aba07f"
      },
      "execution_count": 2,
      "outputs": [
        {
          "output_type": "stream",
          "name": "stdout",
          "text": [
            "2\n",
            "4\n",
            "6\n",
            "8\n",
            "10\n",
            "12\n",
            "14\n",
            "16\n",
            "18\n",
            "20\n"
          ]
        }
      ]
    },
    {
      "cell_type": "code",
      "source": [
        "def factorial(x):\n",
        "   if (x==1) | (x==0):\n",
        "    return 1\n",
        "   else:\n",
        "     return (x * factorial(x-1))\n",
        ""
      ],
      "metadata": {
        "id": "PD9MVFXw2NA1"
      },
      "execution_count": 36,
      "outputs": []
    },
    {
      "cell_type": "code",
      "source": [
        "factorial(5)"
      ],
      "metadata": {
        "colab": {
          "base_uri": "https://localhost:8080/"
        },
        "id": "vKlphFd32kHw",
        "outputId": "a798ec24-d048-444a-93bf-29be229c6f58"
      },
      "execution_count": 37,
      "outputs": [
        {
          "output_type": "execute_result",
          "data": {
            "text/plain": [
              "120"
            ]
          },
          "metadata": {},
          "execution_count": 37
        }
      ]
    },
    {
      "cell_type": "code",
      "source": [
        "product = lambda x,y : x * y\n",
        "print(product(12,15))"
      ],
      "metadata": {
        "colab": {
          "base_uri": "https://localhost:8080/"
        },
        "id": "Asqi-vk52not",
        "outputId": "96e49d52-5865-4831-942a-159b4823376d"
      },
      "execution_count": 38,
      "outputs": [
        {
          "output_type": "stream",
          "name": "stdout",
          "text": [
            "180\n"
          ]
        }
      ]
    },
    {
      "cell_type": "code",
      "source": [],
      "metadata": {
        "id": "MQzFp_Pa3z4y"
      },
      "execution_count": null,
      "outputs": []
    }
  ]
}