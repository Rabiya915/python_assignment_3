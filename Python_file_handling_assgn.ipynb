{
  "cells": [
    {
      "cell_type": "markdown",
      "metadata": {
        "id": "view-in-github",
        "colab_type": "text"
      },
      "source": [
        "<a href=\"https://colab.research.google.com/github/Rabiya915/python_assignment_3/blob/main/Python_file_handling_assgn.ipynb\" target=\"_parent\"><img src=\"https://colab.research.google.com/assets/colab-badge.svg\" alt=\"Open In Colab\"/></a>"
      ]
    },
    {
      "cell_type": "markdown",
      "metadata": {
        "id": "1_sCaj_eWZcM"
      },
      "source": [
        "Task-1"
      ]
    },
    {
      "cell_type": "code",
      "execution_count": 27,
      "metadata": {
        "colab": {
          "base_uri": "https://localhost:8080/"
        },
        "id": "YB2zKcc6WUj8",
        "outputId": "db8887f4-0c98-4c49-da72-3ff4533ff138"
      },
      "outputs": [
        {
          "output_type": "stream",
          "name": "stdout",
          "text": [
            "Hello. This is data.txt file line 1\n",
            "Line 2\n",
            "Line 3\n",
            "Line 4\n",
            "Line 5\n",
            "\n",
            "This is a new Line\n"
          ]
        }
      ],
      "source": [
        "with open(\"data.txt\",'r') as fp: #uploaded the data.txt file\n",
        "  print(fp.read())                #using \"with\" closes the file after its done\n",
        "                                 #r stands for read mode"
      ]
    },
    {
      "cell_type": "code",
      "execution_count": 28,
      "metadata": {
        "colab": {
          "base_uri": "https://localhost:8080/"
        },
        "id": "Vvthcx_PXwY4",
        "outputId": "cab9157d-a12f-4b59-f980-205fe411be86"
      },
      "outputs": [
        {
          "output_type": "stream",
          "name": "stdout",
          "text": [
            "File not Found\n"
          ]
        }
      ],
      "source": [
        "try :\n",
        "  with open(\"datasample.txt\",'r') as ft: #checks for any errors\n",
        "    ft.read()\n",
        "except:                                  #if the file not found except will handle\n",
        "   print(\"File not Found\")\n"
      ]
    },
    {
      "cell_type": "code",
      "execution_count": 29,
      "metadata": {
        "id": "go0LpsrUgcuU"
      },
      "outputs": [],
      "source": [
        "with open(\"output.txt\",'w') as ot:\n",
        "  ot.write(\"Python File Handling is powerful!\") #if the file doesn't exit it creates and write to it\n"
      ]
    },
    {
      "cell_type": "markdown",
      "metadata": {
        "id": "XLL0kbbng3cg"
      },
      "source": [
        "Task-2"
      ]
    },
    {
      "cell_type": "code",
      "execution_count": 26,
      "metadata": {
        "id": "AXitPsE4hGkp"
      },
      "outputs": [],
      "source": [
        "with open(\"output.txt\",'a') as ot:\n",
        "  ot.write(\"\\nThis is an appended line\") #it will append at end"
      ]
    },
    {
      "cell_type": "code",
      "execution_count": 20,
      "metadata": {
        "colab": {
          "base_uri": "https://localhost:8080/"
        },
        "id": "plsZ9TIGhan7",
        "outputId": "0d853da9-5f94-4713-eca2-1c8f9a98b49d"
      },
      "outputs": [
        {
          "output_type": "stream",
          "name": "stdout",
          "text": [
            "Hello. This is data.txt file line 1\n",
            "Line 2\n",
            "Line 3\n",
            "Line 4\n",
            "Line 5\n",
            "\n"
          ]
        }
      ],
      "source": [
        "with open(\"data.txt\",'r') as data:\n",
        "  print(data.read())\n",
        "with open(\"data.txt\",'a') as dt: #reads first and then it will append at end\n",
        "  dt.write(\"\\nThis is a new Line\")"
      ]
    },
    {
      "cell_type": "markdown",
      "metadata": {
        "id": "pEUrtJVejgeZ"
      },
      "source": [
        "Task-3"
      ]
    },
    {
      "cell_type": "code",
      "execution_count": null,
      "metadata": {
        "colab": {
          "base_uri": "https://localhost:8080/"
        },
        "id": "YgbDBeGrjBYO",
        "outputId": "8f9f6332-2b6b-406d-eaf4-0a5d810281d0"
      },
      "outputs": [
        {
          "name": "stdout",
          "output_type": "stream",
          "text": [
            "\n",
            "\n",
            "HTML CSS JAVASCRIPT SQL PYTHON JAVA PHP HOW TO W3.CSS C C++ C# BOOTSTRAP REACT MYSQL JQUERY EXCEL XML DJANGO NUMPY PANDAS NODEJS R TYPESCRIPT ANGULAR GIT POSTGRESQL MONGODB ASP AWS AI GO KOTLIN SASS VUE GEN AI SCIPY CYBERSECURITY DATA SCIENCE \n",
            "\n",
            "\n",
            "\n",
            "Python os Module\n",
            "\n",
            "Python os Module\n",
            "\n",
            "Python has a built-in os module with methods for interacting with the operating system, like creating files and directories, management of files and directories, input, output, environment variables, process management, etc.\n",
            "\n",
            "\n",
            "\n",
            "The os module has the following set of methods and constants.\n",
            "\n",
            "\n",
            "\n",
            "OS Methods\n",
            "\n",
            "Method\tDescription\n",
            "\n",
            "os._exit()\tExits the process with the specified status\n",
            "\n",
            "os.abort()\tTerminates a running process immediately\n",
            "\n",
            "os.access()\tUses the real uid/gid to check access to a path\n",
            "\n",
            "os.add_dll_directory()\tAdds a path to the DLL search path\n",
            "\n",
            "os.chdir()\tChange the current working directory\n",
            "\n",
            "os.chflags()\tSets the flags of path to the numeric flags\n",
            "\n",
            "os.chmod()\tChanges the mode of path to the numeric mode\n",
            "\n",
            "os.chown()\tChanges the owner and group id of a specified path to the specified numeric owner id and group id\n",
            "\n",
            "os.chroot()\tChanges the root directory of the current process to a specified path\n",
            "\n",
            "os.close()\tCloses the specified file descriptor\n",
            "\n",
            "os.closerange()\tCloses all file descriptors from fd_low to fd_high\n",
            "\n",
            "os.confstr()\tReturns string-valued system configuration values\n",
            "\n",
            "os.cpu_count()\tReturns the number of CPUs present in the system\n",
            "\n",
            "os.ctermid()\tReturns the filename associated with the controlling terminal of the process\n",
            "\n",
            "os.device_encoding()\tReturns the encoding of the device associated with the file descriptor, if it is connected to a terminal\n",
            "\n",
            "os.dup()\tDuplicates a file descriptor\n",
            "\n",
            "os.dup2()\t Duplicates a file descriptor to a given value\n",
            "\n",
            "os.fchdir()\tChanges the current working directory to a directory opened by os.open()\n",
            "\n",
            "os.fchmod()\tChanges the mode of a file to the specified numeric mode\n",
            "\n",
            "os.fchown()\tChanges the owner and group id of a file to the numeric uid and gid\n",
            "\n",
            "os.fdatasync()\tForces write of file to disc - not forces update of metadata\n",
            "\n",
            "os.fdopen()\tReturns an open file object connected to a file\n",
            "\n",
            "os.fork()\tForks a child process\n",
            "\n",
            "os.forkpty()\tForks a child process, using a new pseudo-terminal as the child's controlling terminal\n",
            "\n",
            "os.fpathconf()\tReturns system configuration information relevant to an open file\n",
            "\n",
            "os.fsdecode()\tDecodes a file path\n",
            "\n",
            "os.fsencode()\tEncodes a file path\n",
            "\n",
            "os.fspath()\tReturns the file system representation of a path\n",
            "\n",
            "os.fstat()\tReturns the status of a file\n",
            "\n",
            "os.fstatvfs()\tReturns information about the file system of a file\n",
            "\n",
            "os.fsync()\tForces write of file with file descriptor fd to disk\n",
            "\n",
            "os.ftruncate()\tTruncates a file to a specified length\n",
            "\n",
            "os.fwalk()\t \n",
            "\n",
            "os.get_blocking()\tReturns the blocking mode information of the file descriptor\n",
            "\n",
            "os.get_exec_path()\tReturns a list of directories, in which the system looks for named executable programs\n",
            "\n",
            "os.get_handle_inheritable()\t \n",
            "\n",
            "os.get_inheritable()\tReturns the inheritable flag of the file descriptor\n",
            "\n",
            "os.get_terminal_size()\tReturns the size of a terminal as a pair of columns and lines\n",
            "\n",
            "os.getcwd()\tReturns the current working directory\n",
            "\n",
            "os.getcwdb()\tReturns the current working directory in bytestring\n",
            "\n",
            "os.getegid()\tReturn the effective group id of the current process\n",
            "\n",
            "os.getenv()\tReturns the value of the environment variable key\n",
            "\n",
            "os.getenvb()\tReturns the value of the environment variable key, in bytes\n",
            "\n",
            "os.geteuid()\tReturns the effective user id of the current process\n",
            "\n",
            "os.getgid()\tReturns the real group id of the current process\n",
            "\n",
            "os.getgrouplist()\tReturns a list of all group ids for a specified user\n",
            "\n",
            "os.getgroups()\tReturns a list of supplementary group ids associated with the current process\n",
            "\n",
            "os.getloadavg()\tReturns the load average over the last 1, 5, and 15 minutes\n",
            "\n",
            "os.getlogin()\tReturns the name of the user logged in to the terminal\n",
            "\n",
            "os.getpgid()\tReturns the process group id of a specific process id\n",
            "\n",
            "os.getpgrp()\tReturns the current process group id\n",
            "\n",
            "os.getpid()\tReturns the process id of the current process\n",
            "\n",
            "os.getppid()\tReturns the parent process id of the current process\n",
            "\n",
            "os.getpriority()\tReturns the scheduling priority of a process, process group, or user\n",
            "\n",
            "os.getresgid()\tReturns the current process' real, effective, and saved group ids\n",
            "\n",
            "os.getresuid()\tReturns the current process' real, effective, and saved user ids\n",
            "\n",
            "os.getsid()\tReturns the session id of a process\n",
            "\n",
            "os.getuid()\tReturns the current process' real user id\n",
            "\n",
            "os.initgroups()\tInitializes a group access list showing all the member groups of a user plus the group id\n",
            "\n",
            "os.isatty()\tReturns whether a file descriptor is open and connected to a tty(-like) device or not.\n",
            "\n",
            "os.kill()\tSends a signal to the process with the specified process id\n",
            "\n",
            "os.killpg()\tSends a signal to the process with the specified process id\n",
            "\n",
            "os.lchflags()\tChanges the flags of a path to the numeric flags\n",
            "\n",
            "os.lchmod()\tChanges the mode of path to the numeric mode\n",
            "\n",
            "os.lchown()\tChanges the owner and group id of path to the numeric uid and gid\n",
            "\n",
            "os.link()\tCreates a hard link pointing to source named destination\n",
            "\n",
            "os.listdir()\tReturns a list of the names of the entries in a directory\n",
            "\n",
            "os.lockf()\tApplies, tests, or removes a POSIX lock on an open file\n",
            "\n",
            "os.lseek()\tSets the current position of file descriptor to the defined position\n",
            "\n",
            "os.lstat()\tReturns the status of a file or file descriptor, but does not follow symbolic links\n",
            "\n",
            "os.major()\tReturns the device major number from raw device number\n",
            "\n",
            "os.makedev()\tReturns a raw device number from the specified major and minor device numbers\n",
            "\n",
            "os.makedirs()\tCreates a directory recursively\n",
            "\n",
            "os.memfd_create()\tCreate an anonymous file and returns a file descriptor\n",
            "\n",
            "os.minor()\tReturns the device minor number from raw device number\n",
            "\n",
            "os.mkdir()\tCreates a directory (with a specified mode)\n",
            "\n",
            "os.mkfifo()\tCreates a FIFO named path (with a specified mode)\n",
            "\n",
            "os.mknod()\t \n",
            "\n",
            "os.nice()\t \n",
            "\n",
            "os.open()\t \n",
            "\n",
            "os.openpty()\t \n",
            "\n",
            "os.pathconf()\t \n",
            "\n",
            "os.pipe()\t \n",
            "\n",
            "os.pipe2()\t \n",
            "\n",
            "os.plock()\t \n",
            "\n",
            "os.popen()\t \n",
            "\n",
            "os.posix_fadvise()\t \n",
            "\n",
            "os.posix_fallocate()\t \n",
            "\n",
            "os.posix_spawn()\t \n",
            "\n",
            "os.posix_spawnp()\t \n",
            "\n"
          ]
        }
      ],
      "source": [
        "try:\n",
        "  with open(\"large_data.txt\",'r') as ld:\n",
        "    count = 0 #variable for storing number of lines\n",
        "    for line in ld:#iterating through each line\n",
        "      if count <= 100:\n",
        "        print(line)\n",
        "        count += 1\n",
        "except FileNotFoundError:\n",
        "      if count < 100:\n",
        "          raise FileNotFoundError\n"
      ]
    },
    {
      "cell_type": "markdown",
      "metadata": {
        "id": "UMnsyvV4AWMc"
      },
      "source": [
        "Task-4"
      ]
    },
    {
      "cell_type": "code",
      "execution_count": 19,
      "metadata": {
        "colab": {
          "base_uri": "https://localhost:8080/"
        },
        "id": "CoBrnm-Z65Uv",
        "outputId": "2bacea7a-ebeb-49c9-8b8e-a74a13e8fa88"
      },
      "outputs": [
        {
          "output_type": "stream",
          "name": "stdout",
          "text": [
            "There is no file named data.txt_docx\n"
          ]
        }
      ],
      "source": [
        "try:\n",
        "  with open(\"simple_file_1\",'r') as fp: #uploaded the data.txt file\n",
        "    print(fp.read())\n",
        "                 #using \"with\" closes the file after its done\n",
        "except FileNotFoundError:\n",
        "  print(\"There is no file named data.txt_docx\")\n",
        "\n",
        "except PermissionError:\n",
        "       print(\"denied\")"
      ]
    },
    {
      "cell_type": "markdown",
      "metadata": {
        "id": "TBem9jsZAkio"
      },
      "source": [
        "Task-5"
      ]
    },
    {
      "cell_type": "code",
      "execution_count": 18,
      "metadata": {
        "colab": {
          "base_uri": "https://localhost:8080/"
        },
        "id": "YLmVRB7_Ajcc",
        "outputId": "f1a9b8f1-78be-401e-d267-405e81eb9eac"
      },
      "outputs": [
        {
          "output_type": "stream",
          "name": "stdout",
          "text": [
            "Does not exit and has been created\n"
          ]
        }
      ],
      "source": [
        "import os\n",
        "if os.path.isfile(\"check.txt\"):#checks if the file exists and then remove it\n",
        "    os.remove(\"check.txt\")\n",
        "    print(\"Exists and has deleted\")\n",
        "else:\n",
        "    with open(\"check.txt\",'w') as ck: #if not it will create a file\n",
        "      ck.write(\"This is a new line\")\n",
        "      print(\"Does not exit and has been created\")"
      ]
    },
    {
      "cell_type": "code",
      "execution_count": 17,
      "metadata": {
        "id": "DArXeSfcCpp3"
      },
      "outputs": [],
      "source": [
        "import os\n",
        "if  os.path.isfile(\"old_name.txt\"):#checks for files\n",
        "      print(\"Exists\")\n",
        "      if os.path.isfile(\"new_name.txt\"):\n",
        "        print(\"New_name.txt exists\")\n",
        "\n",
        "else: #if not exists it will create and then rename it\n",
        "   with open(\"old_name.txt\",'w') as ck:\n",
        "          os.rename(\"old_name.txt\",\"new_name.txt\")"
      ]
    }
  ],
  "metadata": {
    "colab": {
      "provenance": [],
      "authorship_tag": "ABX9TyPin4vBV2df9RE53+vDBXBq",
      "include_colab_link": true
    },
    "kernelspec": {
      "display_name": "Python 3",
      "name": "python3"
    },
    "language_info": {
      "name": "python"
    }
  },
  "nbformat": 4,
  "nbformat_minor": 0
}