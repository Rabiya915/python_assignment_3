{
  "nbformat": 4,
  "nbformat_minor": 0,
  "metadata": {
    "colab": {
      "provenance": [],
      "authorship_tag": "ABX9TyO3Nlxp7C/Bn19A72XPg4Mu",
      "include_colab_link": true
    },
    "kernelspec": {
      "name": "python3",
      "display_name": "Python 3"
    },
    "language_info": {
      "name": "python"
    }
  },
  "cells": [
    {
      "cell_type": "markdown",
      "metadata": {
        "id": "view-in-github",
        "colab_type": "text"
      },
      "source": [
        "<a href=\"https://colab.research.google.com/github/Rabiya915/python_assignment_3/blob/main/Python_assg_5_sections.ipynb\" target=\"_parent\"><img src=\"https://colab.research.google.com/assets/colab-badge.svg\" alt=\"Open In Colab\"/></a>"
      ]
    },
    {
      "cell_type": "markdown",
      "source": [
        "Section-1"
      ],
      "metadata": {
        "id": "UIachOciaAdw"
      }
    },
    {
      "cell_type": "code",
      "execution_count": null,
      "metadata": {
        "colab": {
          "base_uri": "https://localhost:8080/"
        },
        "id": "ABnwo5cFZ6Yo",
        "outputId": "7721d24a-3ded-46c5-9b51-70ded233fcaa"
      },
      "outputs": [
        {
          "output_type": "stream",
          "name": "stdout",
          "text": [
            "Hello,World!\n",
            "30\n"
          ]
        }
      ],
      "source": [
        "print(\"Hello,World!\")\n",
        "a = 10\n",
        "b = 20\n",
        "print(a+b)"
      ]
    },
    {
      "cell_type": "code",
      "source": [
        "num = int(input())\n",
        "if num % 2 == 0:\n",
        "  print(\"It is a even Number\")\n",
        "else:\n",
        "  print(\"It is a odd number\")"
      ],
      "metadata": {
        "colab": {
          "base_uri": "https://localhost:8080/"
        },
        "id": "UU8reU2raGme",
        "outputId": "cc4ae829-b814-4ddb-aac9-0e11f32fd3ab"
      },
      "execution_count": null,
      "outputs": [
        {
          "output_type": "stream",
          "name": "stdout",
          "text": [
            "20\n",
            "It is a even Number\n"
          ]
        }
      ]
    },
    {
      "cell_type": "code",
      "source": [
        "for i in range(1,11):\n",
        "  print(i)\n",
        "\n"
      ],
      "metadata": {
        "colab": {
          "base_uri": "https://localhost:8080/"
        },
        "id": "5E_VqZJvajwD",
        "outputId": "f493dafe-ccb2-4fcc-b493-4634c8d2572a"
      },
      "execution_count": null,
      "outputs": [
        {
          "output_type": "stream",
          "name": "stdout",
          "text": [
            "1\n",
            "2\n",
            "3\n",
            "4\n",
            "5\n",
            "6\n",
            "7\n",
            "8\n",
            "9\n",
            "10\n"
          ]
        }
      ]
    },
    {
      "cell_type": "code",
      "source": [
        "j = 1\n",
        "sum = 0\n",
        "while(j<11):\n",
        "\n",
        "  sum = sum + j\n",
        "  j = j + 1\n",
        "print(sum)"
      ],
      "metadata": {
        "colab": {
          "base_uri": "https://localhost:8080/"
        },
        "id": "IUONRypKavds",
        "outputId": "fc38fe72-27fe-407f-c781-c5c7e8edf8d7"
      },
      "execution_count": null,
      "outputs": [
        {
          "output_type": "stream",
          "name": "stdout",
          "text": [
            "55\n"
          ]
        }
      ]
    },
    {
      "cell_type": "code",
      "source": [
        "fruits = [\"apple\",\"guava\",\"pineapple\",\"kiwi\",\"grapes\"]\n",
        "names =  {\"INDIA\":\"Delhi\",\"Srilanka\" : \"Coloumbia\",\"Russia\":\"Moscow\"}\n"
      ],
      "metadata": {
        "id": "HvSyZfQpbN7g"
      },
      "execution_count": null,
      "outputs": []
    },
    {
      "cell_type": "code",
      "source": [
        "string = \"Hello\"\n",
        "print(string[::-1])"
      ],
      "metadata": {
        "colab": {
          "base_uri": "https://localhost:8080/"
        },
        "id": "ou65MkM5khhO",
        "outputId": "72313c79-4d04-4246-c853-87a58da53fd9"
      },
      "execution_count": null,
      "outputs": [
        {
          "output_type": "stream",
          "name": "stdout",
          "text": [
            "olleH\n"
          ]
        }
      ]
    },
    {
      "cell_type": "markdown",
      "source": [
        "Section-2"
      ],
      "metadata": {
        "id": "9QGAR1MYlicc"
      }
    },
    {
      "cell_type": "code",
      "source": [
        "def square(n):\n",
        "  sq = n * n\n",
        "  return sq\n",
        "\n",
        "n = int(input())\n",
        "square(n)"
      ],
      "metadata": {
        "colab": {
          "base_uri": "https://localhost:8080/"
        },
        "id": "t1DmlgynlgD3",
        "outputId": "b374a3b9-f727-4e43-bc1c-cdd5d5270561"
      },
      "execution_count": null,
      "outputs": [
        {
          "name": "stdout",
          "output_type": "stream",
          "text": [
            "12\n"
          ]
        },
        {
          "output_type": "execute_result",
          "data": {
            "text/plain": [
              "144"
            ]
          },
          "metadata": {},
          "execution_count": 11
        }
      ]
    },
    {
      "cell_type": "code",
      "source": [
        "def product(x,y):\n",
        "  z = x * y\n",
        "  return z\n",
        "\n",
        "product(2,6)"
      ],
      "metadata": {
        "colab": {
          "base_uri": "https://localhost:8080/"
        },
        "id": "hngFmbzOl0wE",
        "outputId": "b4f4eb30-9652-436c-ef7e-26af631fe77b"
      },
      "execution_count": null,
      "outputs": [
        {
          "output_type": "execute_result",
          "data": {
            "text/plain": [
              "12"
            ]
          },
          "metadata": {},
          "execution_count": 12
        }
      ]
    },
    {
      "cell_type": "code",
      "source": [
        "def fact(n):\n",
        "   if n == 1:\n",
        "     return 1\n",
        "   else:\n",
        "     return n * fact(n-1)\n",
        "\n",
        "fact(5)"
      ],
      "metadata": {
        "colab": {
          "base_uri": "https://localhost:8080/"
        },
        "id": "7ss0jtPQmRcF",
        "outputId": "bc71a169-a4fa-4fc1-8690-2feb968e201f"
      },
      "execution_count": null,
      "outputs": [
        {
          "output_type": "execute_result",
          "data": {
            "text/plain": [
              "120"
            ]
          },
          "metadata": {},
          "execution_count": 15
        }
      ]
    },
    {
      "cell_type": "code",
      "source": [
        "max = lambda x ,y:print(\"x is max\") if x>y  else print(\"Y is max\")\n",
        "max(3,8)"
      ],
      "metadata": {
        "colab": {
          "base_uri": "https://localhost:8080/"
        },
        "id": "mP6ErbkzmbBC",
        "outputId": "cdbf5551-aa93-43e8-fc34-52324cc942b0"
      },
      "execution_count": null,
      "outputs": [
        {
          "output_type": "stream",
          "name": "stdout",
          "text": [
            "Y is max\n"
          ]
        }
      ]
    },
    {
      "cell_type": "code",
      "source": [
        "import math\n",
        "math.sqrt(144)\n"
      ],
      "metadata": {
        "colab": {
          "base_uri": "https://localhost:8080/"
        },
        "id": "6Iy4K2k1oHkj",
        "outputId": "2bf7e3cd-5cfc-4917-e6de-c60454d63abc"
      },
      "execution_count": null,
      "outputs": [
        {
          "output_type": "execute_result",
          "data": {
            "text/plain": [
              "12.0"
            ]
          },
          "metadata": {},
          "execution_count": 28
        }
      ]
    },
    {
      "cell_type": "markdown",
      "source": [
        "Section-3"
      ],
      "metadata": {
        "id": "Ri8Gf6kyrggr"
      }
    },
    {
      "cell_type": "code",
      "source": [
        "class car:\n",
        "   def __init__(self,make,model,year):\n",
        "          self.make = make\n",
        "          self.model = model\n",
        "          self.year = year\n",
        "\n",
        "obj = car(\"volvo\",\"xc90\",1990)\n",
        "obj.model"
      ],
      "metadata": {
        "colab": {
          "base_uri": "https://localhost:8080/",
          "height": 36
        },
        "id": "5S4Qruxyqf7d",
        "outputId": "ae9d7976-9781-4a6f-ac72-f97363e1c7e3"
      },
      "execution_count": null,
      "outputs": [
        {
          "output_type": "execute_result",
          "data": {
            "text/plain": [
              "'xc90'"
            ],
            "application/vnd.google.colaboratory.intrinsic+json": {
              "type": "string"
            }
          },
          "metadata": {},
          "execution_count": 32
        }
      ]
    },
    {
      "cell_type": "code",
      "source": [
        "class car:\n",
        "   def __init__(self,make,model,year):\n",
        "          self.make = make\n",
        "          self.model = model\n",
        "          self.year = year\n",
        "\n",
        "   def display(self):\n",
        "     print(f\"car info : {self.make},{self.model},{self.year}\")\n",
        "\n",
        "class ElectricCar(car):\n",
        "   def __init__(self, make, model,  year, battery_size):\n",
        "          super().__init__(make,model,year)\n",
        "          self.battery_size = battery_size\n",
        "   def display(self):\n",
        "     super().display()\n",
        "     print(f\" battery: {self.battery_size} kWh\")\n",
        "\n",
        "obj = car(\"volvo\",\"xc90\",1990)\n",
        "obj1 = ElectricCar(\"volvo\",\"xc90\",1991,200)\n",
        "obj1.display()"
      ],
      "metadata": {
        "colab": {
          "base_uri": "https://localhost:8080/"
        },
        "id": "AV8F5WbBqiv4",
        "outputId": "65583b36-e6ec-4348-96d5-52e513a02dcb"
      },
      "execution_count": null,
      "outputs": [
        {
          "output_type": "stream",
          "name": "stdout",
          "text": [
            "car info : volvo,xc90,1991\n",
            " battery: 200 kWh\n"
          ]
        }
      ]
    },
    {
      "cell_type": "code",
      "source": [
        "class car:\n",
        "   def __init__(self,make,model,year):\n",
        "          self.__make = make\n",
        "          self.__model = model\n",
        "          self.year = year\n",
        "\n",
        "   def display(self):\n",
        "     print(f\"car info : {self.make},{self.model},{self.year}\")\n",
        "\n",
        "class ElectricCar(car):\n",
        "   def __init__(self, make, model,  year, battery_size):\n",
        "          super().__init__(make,model,year)\n",
        "          self.battery_size = battery_size\n",
        "   def display(self):\n",
        "     print(f\" battery: {self.battery_size} kWh\")\n",
        "\n",
        "obj = car(\"volvo\",\"xc90\",1990)\n",
        "obj1 = ElectricCar(\"volvo\",\"xc90\",1991,200)\n",
        "obj1.display()"
      ],
      "metadata": {
        "id": "nxfKQlj81a70",
        "colab": {
          "base_uri": "https://localhost:8080/"
        },
        "outputId": "2a372907-00c0-44e7-8eeb-e16a04bb3743"
      },
      "execution_count": null,
      "outputs": [
        {
          "output_type": "stream",
          "name": "stdout",
          "text": [
            " battery: 200 kWh\n"
          ]
        }
      ]
    },
    {
      "cell_type": "markdown",
      "source": [
        "class variables...the variables created outside of the any instance methods but inside of a class.It can be used by all instances."
      ],
      "metadata": {
        "id": "wWeAmE5IqpHO"
      }
    },
    {
      "cell_type": "code",
      "source": [
        "class vehicle:\n",
        "   color = \"White\"\n",
        "   def __init__(self,name):\n",
        "       self.name = name\n",
        "       print(f\"Info :{self.name} {self.color}\")\n",
        "\n",
        "car = vehicle(\"Kia\")\n",
        "\n",
        "\n"
      ],
      "metadata": {
        "id": "FRvRhDzg6FCq",
        "colab": {
          "base_uri": "https://localhost:8080/"
        },
        "outputId": "2d166f1c-c161-4ddf-e564-9b08cf173625"
      },
      "execution_count": null,
      "outputs": [
        {
          "output_type": "stream",
          "name": "stdout",
          "text": [
            "Info :Kia White\n"
          ]
        }
      ]
    },
    {
      "cell_type": "markdown",
      "source": [
        "Instance variables are created when a instance of class is created.These are not shared by objects."
      ],
      "metadata": {
        "id": "NvEx_eb2r7L2"
      }
    },
    {
      "cell_type": "code",
      "source": [
        "class vehicle:\n",
        "  def __init__(self,name):\n",
        "      self.name = name\n",
        "\n",
        "bike = vehicle(\"this is a ktm bike\")\n",
        "print(bike.name)\n",
        "\n"
      ],
      "metadata": {
        "id": "CNteghqeru66",
        "colab": {
          "base_uri": "https://localhost:8080/"
        },
        "outputId": "ecb0bc7c-1fa5-4735-f821-9901fce53314"
      },
      "execution_count": null,
      "outputs": [
        {
          "output_type": "stream",
          "name": "stdout",
          "text": [
            "this is a ktm bike\n"
          ]
        }
      ]
    },
    {
      "cell_type": "code",
      "source": [
        "class Car:\n",
        "    def __init__(self, make, model, year):\n",
        "        self.make = make\n",
        "        self.model = model\n",
        "        self.year = year\n",
        "        print(f\"A new car instance has been created: {self.make} {self.model} {self.year}\")\n",
        "\n",
        "    def display_info(self):\n",
        "        print(f\"{self.make} {self.model} {self.year}\")\n",
        "\n",
        "    def __del__(self):\n",
        "        print(f\"The car instance is being destroyed: {self.make} {self.model} {self.year}\")\n",
        "car1 = Car(\"volvo\", \"xc90\", 1990)\n",
        "car1.display_info()\n",
        "\n",
        "del car1\n"
      ],
      "metadata": {
        "colab": {
          "base_uri": "https://localhost:8080/"
        },
        "id": "nc2i_XRNukCd",
        "outputId": "cb67b402-c38d-49c8-f988-4b8301737103"
      },
      "execution_count": null,
      "outputs": [
        {
          "output_type": "stream",
          "name": "stdout",
          "text": [
            "A new car instance has been created: volvo xc90 1990\n",
            "volvo xc90 1990\n",
            "The car instance is being destroyed: volvo xc90 1990\n"
          ]
        }
      ]
    },
    {
      "cell_type": "markdown",
      "source": [
        "section-4"
      ],
      "metadata": {
        "id": "AxsZOno1vCNG"
      }
    },
    {
      "cell_type": "code",
      "source": [
        "\n",
        "with open('peopleinfo.txt', 'r') as file:\n",
        "    # Read each line and print it\n",
        "    for line in file:\n",
        "        print(line.strip())"
      ],
      "metadata": {
        "colab": {
          "base_uri": "https://localhost:8080/"
        },
        "id": "nKY61OeHu6DD",
        "outputId": "826e2cd7-8045-46ff-fa97-72bb004da65e"
      },
      "execution_count": 10,
      "outputs": [
        {
          "output_type": "stream",
          "name": "stdout",
          "text": [
            "Alice,30,Engineer\n",
            "Bob,25,Teacher\n",
            "Charlie,35,Doctor\n",
            "Diana,28,Artist\n",
            "Ethan,40,Scientist\n"
          ]
        }
      ]
    },
    {
      "cell_type": "code",
      "source": [
        "text = \"Python is a Programming Language\" #write to a file\n",
        "\n",
        "try:\n",
        "    with open('output.txt', 'w') as file:#opening the file for writing\n",
        "        file.write(text)\n",
        "    print(f\"Python is programming language!\")\n",
        "except Exception as error:\n",
        "    print(f\"it is an error:\")"
      ],
      "metadata": {
        "id": "bTDoJYbRvNQQ",
        "colab": {
          "base_uri": "https://localhost:8080/"
        },
        "outputId": "64686811-13cf-4764-d9a2-2409cb597fb1"
      },
      "execution_count": 11,
      "outputs": [
        {
          "output_type": "stream",
          "name": "stdout",
          "text": [
            "Python is programming language!\n"
          ]
        }
      ]
    },
    {
      "cell_type": "code",
      "source": [
        "file_name = \"peopleinfo.txt\"\n",
        "class Person:\n",
        "    def __init__(self, name, age, job):\n",
        "        self.name = name\n",
        "        self.age = age\n",
        "        self.job = job\n",
        "\n",
        "    def __str__(self):\n",
        "        return f\"Name: {self.name}, Age: {self.age}, Job: {self.job}\"\n",
        "\n",
        "# Function to read the file and create Person objects\n",
        "def read_and_create_objects(file_name):\n",
        "    people_list = []\n",
        "\n",
        "    try:\n",
        "        with open(file_name, 'r') as file:\n",
        "            for line in file:\n",
        "                # Split the line into Name, Age, and Job\n",
        "                name, age, job = line.strip().split(',')\n",
        "                # Create a Person object and append it to the list\n",
        "                person = Person(name, int(age), job)\n",
        "                people_list.append(person)\n",
        "    except FileNotFoundError:\n",
        "        print(f\"File '{file_name}' not found.\")\n",
        "    except Exception as e:\n",
        "        print(f\"An error occurred: {e}\")\n",
        "\n",
        "    return people_list\n",
        "\n",
        "file_path = 'peopleinfo.txt'\n",
        "people_objects = read_and_create_objects(file_name)\n",
        "\n",
        "# Display the information of each Person object\n",
        "for person in people_objects:\n",
        "    print(person)"
      ],
      "metadata": {
        "colab": {
          "base_uri": "https://localhost:8080/"
        },
        "id": "J9c0Kz4UzKII",
        "outputId": "0fbf4dc2-85ca-4766-8918-d04bfcd7324f"
      },
      "execution_count": 12,
      "outputs": [
        {
          "output_type": "stream",
          "name": "stdout",
          "text": [
            "Name: Alice, Age: 30, Job: Engineer\n",
            "Name: Bob, Age: 25, Job: Teacher\n",
            "Name: Charlie, Age: 35, Job: Doctor\n",
            "Name: Diana, Age: 28, Job: Artist\n",
            "Name: Ethan, Age: 40, Job: Scientist\n"
          ]
        }
      ]
    },
    {
      "cell_type": "code",
      "source": [
        "import pickle\n",
        "\n",
        "class Car:\n",
        "    def __init__(self, make, model, year):\n",
        "        self.make = make\n",
        "        self.model = model\n",
        "        self.year = year\n",
        "\n",
        "    def display_info(self):\n",
        "        print(f\"Car Information: {self.year} {self.make} {self.model}\")\n",
        "\n",
        "# Create an instance of the Car class\n",
        "my_car = Car(make=\"Toyota\", model=\"Camry\", year=2022)\n",
        "\n",
        "# Save the object to a file using pickle\n",
        "with open(\"car.pkl\", \"wb\") as file:\n",
        "    pickle.dump(my_car, file)\n",
        "\n",
        "# Load the object from the file using pickle\n",
        "with open(\"car.pkl\", \"rb\") as file:\n",
        "    loaded_car = pickle.load(file)\n",
        "\n",
        "# Display information about the loaded car\n",
        "loaded_car.display_info()\n"
      ],
      "metadata": {
        "colab": {
          "base_uri": "https://localhost:8080/"
        },
        "id": "9Zqn96K8zyhg",
        "outputId": "e063dfc2-c646-4720-a1ec-d107193f84d8"
      },
      "execution_count": 13,
      "outputs": [
        {
          "output_type": "stream",
          "name": "stdout",
          "text": [
            "Car Information: 2022 Toyota Camry\n"
          ]
        }
      ]
    },
    {
      "cell_type": "code",
      "source": [
        "class Product:\n",
        "    def __init__(self, name, price, quantity):\n",
        "        self.name = name\n",
        "        self.price = price\n",
        "        self.quantity = quantity\n",
        "\n",
        "    def display_info(self):\n",
        "        print(f\"Product: {self.name}, Price: ${self.price}, Quantity: {self.quantity}\")\n",
        "\n",
        "    def update_details(self, new_price=None, new_quantity=None):\n",
        "        if new_price is not None:\n",
        "            self.price = float(new_price)\n",
        "        if new_quantity is not None:\n",
        "            self.quantity = int(new_quantity)\n",
        "\n",
        "# Function to read product information from a file\n",
        "def read_products(file_path):\n",
        "    products = []\n",
        "    with open(file_path, \"r\") as file:\n",
        "        for line in file:\n",
        "            name, price, quantity = line.strip().split(',')\n",
        "            product = Product(name, price, quantity)\n",
        "            products.append(product)\n",
        "    return products\n",
        "\n",
        "# Function to write updated product details back to a file\n",
        "def write_products(file_path, products):\n",
        "    with open(file_path, \"w\") as file:\n",
        "        for product in products:\n",
        "            file.write(f\"{product.name},{product.price},{product.quantity}\\n\")\n",
        "\n",
        "# File paths\n",
        "input_file_path = \"products_input.txt\"\n",
        "output_file_path = \"products_output.txt\"\n",
        "\n",
        "# Read product information from the input file\n",
        "product_list = read_products(input_file_path)\n",
        "\n",
        "\n",
        "\n",
        "# Update product details (e.g., change price and quantity)\n",
        "product_list[0].update_details(new_price=15.99, new_quantity=50)\n",
        "product_list[2].update_details(new_quantity=100)\n",
        "\n",
        "# Display information about the updated products\n",
        "print(\"\\nUpdated Product Information:\")\n",
        "for product in product_list:\n",
        "    product.display_info()\n",
        "\n",
        "# Write the updated product details back to the output file\n",
        "write_products(output_file_path, product_list)\n",
        "\n",
        "# Confirmation message\n",
        "print(f\"\\nUpdated product details written to {output_file_path}.\")\n"
      ],
      "metadata": {
        "colab": {
          "base_uri": "https://localhost:8080/"
        },
        "id": "Ko45jYrT02U7",
        "outputId": "299d9db7-82ae-469e-e976-d4c91e2d43fb"
      },
      "execution_count": 16,
      "outputs": [
        {
          "output_type": "stream",
          "name": "stdout",
          "text": [
            "\n",
            "Updated Product Information:\n",
            "Product: Laptop, Price: $15.99, Quantity: 50\n",
            "Product: Smartphone, Price: $399.99, Quantity: 50\n",
            "Product: Headphones, Price: $59.95, Quantity: 100\n",
            "Product: Camera, Price: $299.50, Quantity: 30\n",
            "Product: Desk Chair, Price: $129.99, Quantity: 15\n",
            "Product: Mouse, Price: $19.99, Quantity: 100\n",
            "Product: Backpack, Price: $49.95, Quantity: 40\n",
            "Product: Printer, Price: $149.00, Quantity: 25\n",
            "Product: Tablet, Price: $199.99, Quantity: 60\n",
            "Product: External Hard Drive, Price: $79.99, Quantity: 35\n",
            "\n",
            "Updated product details written to products_output.txt.\n"
          ]
        }
      ]
    },
    {
      "cell_type": "code",
      "source": [],
      "metadata": {
        "id": "l6ObWp5X2Meu"
      },
      "execution_count": null,
      "outputs": []
    }
  ]
}