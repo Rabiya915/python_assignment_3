{
  "nbformat": 4,
  "nbformat_minor": 0,
  "metadata": {
    "colab": {
      "provenance": [],
      "authorship_tag": "ABX9TyNbKo8Qrs4ssQob7Fr0JOSn",
      "include_colab_link": true
    },
    "kernelspec": {
      "name": "python3",
      "display_name": "Python 3"
    },
    "language_info": {
      "name": "python"
    }
  },
  "cells": [
    {
      "cell_type": "markdown",
      "metadata": {
        "id": "view-in-github",
        "colab_type": "text"
      },
      "source": [
        "<a href=\"https://colab.research.google.com/github/Rabiya915/python_assignment_3/blob/main/Python_OOP_assgn.ipynb\" target=\"_parent\"><img src=\"https://colab.research.google.com/assets/colab-badge.svg\" alt=\"Open In Colab\"/></a>"
      ]
    },
    {
      "cell_type": "markdown",
      "source": [
        "Encapsulation"
      ],
      "metadata": {
        "id": "v9kMgY5kkCS9"
      }
    },
    {
      "cell_type": "markdown",
      "source": [
        "Bank Account"
      ],
      "metadata": {
        "id": "zq10--s39Ekn"
      }
    },
    {
      "cell_type": "code",
      "execution_count": null,
      "metadata": {
        "colab": {
          "base_uri": "https://localhost:8080/"
        },
        "id": "vya5-rHSj3xG",
        "outputId": "591fb7cf-c5a6-4895-a3b1-dc9cc52db6ab"
      },
      "outputs": [
        {
          "output_type": "stream",
          "name": "stdout",
          "text": [
            "available amount: 2200\n",
            "available amount: 1700\n"
          ]
        }
      ],
      "source": [
        "class BankAccount():\n",
        "  def __init__(self,name,acc_num,balance):\n",
        "    #creating instance variables\n",
        "    #creating private attributes by adding \"__\"\n",
        "    self.__name =     name\n",
        "    self.__acc_num = acc_num\n",
        "    self.__balance = balance\n",
        "\n",
        "\n",
        "  def deposit(self,amount):  #creating a deposit method where amount is a attribute which checks for greater than 0 i.e amount should be +ve\n",
        "      if amount > 0:\n",
        "        self.__balance += amount\n",
        "        print(\"available amount:\",self.__balance)\n",
        "\n",
        "  def withdraw(self,amount): #it checks it is greater than 0 and there is enough balance to withdraw.\n",
        "    if self.__balance >= amount:\n",
        "      if amount > 0:\n",
        "         self.__balance -= amount\n",
        "         print(\"available amount:\",self.__balance)\n",
        "      else:\n",
        "         print(\"You cannot withdraw\")\n",
        "\n",
        "#driver class\n",
        "cust = BankAccount(\"Anil\",5212,2000)  #object of BankAccount class\n",
        "cust.deposit(200)         #calling deposit method with argument of amount=200\n",
        "cust.withdraw(500)        #calling withdraw method with argument amount = 500"
      ]
    },
    {
      "cell_type": "markdown",
      "source": [
        "Password Manager"
      ],
      "metadata": {
        "id": "r9bANWDx9HzL"
      }
    },
    {
      "cell_type": "code",
      "source": [
        "class PasswordManager():\n",
        "  def __init__(self,password):\n",
        "    self.__password = password #private variable named password\n",
        "\n",
        "  def set_password(self,new_password):\n",
        "      if len(new_password) >= 8:#ensures that the length of new password should be >= 8\n",
        "         self.__password = new_password\n",
        "\n",
        "  def validate(self,enter_password): #checks if the entered password and the existing password matches\n",
        "    if  enter_password == self.__password:\n",
        "        print(\"It is a Valid Password\")\n",
        "    else:\n",
        "      print(\"It is not a Valid Password\")\n",
        "\n",
        "pw = PasswordManager(\"Rabiya\")\n",
        "pw.set_password(\"Rabiya123\") #here it is a passsword of length 9\n",
        "pw.validate(\"Rabiya123\")"
      ],
      "metadata": {
        "colab": {
          "base_uri": "https://localhost:8080/"
        },
        "id": "fODpThAO9LAr",
        "outputId": "12d9a9f8-20bb-4758-af05-69d9783715b5"
      },
      "execution_count": 11,
      "outputs": [
        {
          "output_type": "stream",
          "name": "stdout",
          "text": [
            "It is a Valid Password\n"
          ]
        }
      ]
    },
    {
      "cell_type": "markdown",
      "source": [
        "Inheritance"
      ],
      "metadata": {
        "id": "WSqy3Jslu9lk"
      }
    },
    {
      "cell_type": "markdown",
      "source": [
        "Shape Hierachy"
      ],
      "metadata": {
        "id": "Tz3evsvdx6CE"
      }
    },
    {
      "cell_type": "code",
      "source": [
        "class shape():#base class named shape with no arguments expect self\n",
        "  def __init__(self):\n",
        "     pass\n",
        "  def area():#method named area\n",
        "    return 0\n",
        "\n",
        "class circle(shape):#circle is the child class which inherits the base class(shape) properities\n",
        "  def area(self,radius):\n",
        "    return 3.14*radius*radius\n",
        "\n",
        "class rectangle(shape):#rectangle is the child class which returns its area (length*breadth)\n",
        "  def area(self,length,breadth):\n",
        "    return length * breadth\n",
        "\n",
        "\n",
        "shape1 = circle() #obj created for circle\n",
        "print(\"Area of circle :\" ,shape1.area(2))\n",
        "\n",
        "shape2 = rectangle()#obj created for rectangel\n",
        "print(\"Area of rectangle :\",shape2.area(2,8))\n"
      ],
      "metadata": {
        "colab": {
          "base_uri": "https://localhost:8080/"
        },
        "id": "_XXQtBqimIMy",
        "outputId": "df89da51-2f69-4fc3-df4f-47752e3fe9a7"
      },
      "execution_count": null,
      "outputs": [
        {
          "output_type": "stream",
          "name": "stdout",
          "text": [
            "Area of circle : 12.56\n",
            "Area of rectangle : 16\n"
          ]
        }
      ]
    },
    {
      "cell_type": "markdown",
      "source": [
        "Animal Sound System"
      ],
      "metadata": {
        "id": "AQ6taVpfx-Iu"
      }
    },
    {
      "cell_type": "code",
      "source": [
        "class Animal():#base class\n",
        "  def speak():\n",
        "    return \"Generic Sound\"\n",
        "\n",
        "class Dog(Animal):#child class\n",
        "      def speak(self):#inherits the parents class method\n",
        "        return \"Bow\"\n",
        "\n",
        "class Cat(Animal):\n",
        "     def speak(self):\n",
        "      return \"Meow\"\n",
        "\n",
        "cat1 = Cat()\n",
        "cat1.speak()"
      ],
      "metadata": {
        "colab": {
          "base_uri": "https://localhost:8080/",
          "height": 36
        },
        "id": "LeXmZokJwLh5",
        "outputId": "c629085c-92e5-4c92-992d-84aa77b5d975"
      },
      "execution_count": null,
      "outputs": [
        {
          "output_type": "execute_result",
          "data": {
            "text/plain": [
              "'Meow'"
            ],
            "application/vnd.google.colaboratory.intrinsic+json": {
              "type": "string"
            }
          },
          "metadata": {},
          "execution_count": 28
        }
      ]
    },
    {
      "cell_type": "markdown",
      "source": [
        "Polymorphism"
      ],
      "metadata": {
        "id": "sEMWOLhU1JQp"
      }
    },
    {
      "cell_type": "markdown",
      "source": [
        "Vehicle Description Function"
      ],
      "metadata": {
        "id": "-ii-Jf9x1NnA"
      }
    },
    {
      "cell_type": "code",
      "source": [
        "class Boat():\n",
        "  def __init__(self,color,model):#construcutor\n",
        "    self.color = color\n",
        "    self.model = model\n",
        "  def describe_vehicle(self):#describe_method for Boat class\n",
        "    print(f\"{self.color},{self.model}\")\n",
        "\n",
        "class Car():\n",
        "   def __init__(self,color,model):\n",
        "      self.color = color\n",
        "      self.model = model\n",
        "   def describe_vehicle(self):#describe_method for Car class\n",
        "      print(f\"{self.color},{self.model}\")\n",
        "\n",
        "obj1 = Car(\"white\",\"s90\")\n",
        "obj1.describe_vehicle()"
      ],
      "metadata": {
        "colab": {
          "base_uri": "https://localhost:8080/"
        },
        "id": "OZwoqAzz0nhL",
        "outputId": "6b16bc79-5687-43b7-d449-d0e29b44bf03"
      },
      "execution_count": null,
      "outputs": [
        {
          "output_type": "stream",
          "name": "stdout",
          "text": [
            "white,s90\n"
          ]
        }
      ]
    },
    {
      "cell_type": "markdown",
      "source": [
        "Calculator System"
      ],
      "metadata": {
        "id": "QmrkAka58jKa"
      }
    },
    {
      "cell_type": "code",
      "source": [
        "class calculate():\n",
        "  def operate(self,x,y):#creating a method operate in base class with x,y attributes\n",
        "    self.x = x\n",
        "    self.y = y\n",
        "\n",
        "\n",
        "class  adder(calculate):\n",
        "    def operate(self,x,y):#overriding the operate method with addition\n",
        "      return x + y\n",
        "\n",
        "class multiplier(calculate):\n",
        "    def operate(self,x,y):#overriding the operate method with multiplication\n",
        "      return x*y\n",
        "\n",
        "\n",
        "#driver class\n",
        "#creating an object\n",
        "\n",
        "add1 =  adder()\n",
        "add1.operate(3,8)\n"
      ],
      "metadata": {
        "colab": {
          "base_uri": "https://localhost:8080/"
        },
        "id": "Z4FGL_ox7wPs",
        "outputId": "c5d2524c-aafb-4855-fc00-15f6a00f46a0"
      },
      "execution_count": null,
      "outputs": [
        {
          "output_type": "execute_result",
          "data": {
            "text/plain": [
              "11"
            ]
          },
          "metadata": {},
          "execution_count": 46
        }
      ]
    },
    {
      "cell_type": "markdown",
      "source": [
        "Abstraction"
      ],
      "metadata": {
        "id": "SUkmHN7o3ULJ"
      }
    },
    {
      "cell_type": "markdown",
      "source": [
        "Sensor System"
      ],
      "metadata": {
        "id": "GXTifRWM3WJy"
      }
    },
    {
      "cell_type": "code",
      "source": [
        "from abc import ABC, abstractmethod  #ABC abstract base class for creating a abstract class\n",
        "class sensor(ABC):\n",
        "  @abstractmethod #using decorator to declare the read_value method\n",
        "  def read_value(self):\n",
        "    pass\n",
        "\n",
        "class TemperatureSensor(sensor):\n",
        "       def read_value(self):#accesing the abstract method\n",
        "           return 28\n",
        "class PressureSensor(sensor):\n",
        "       def read_value(self):\n",
        "            return 120\n",
        "\n",
        "obj1 =TemperatureSensor()\n",
        "obj1.read_value()\n"
      ],
      "metadata": {
        "id": "VtuD0RRM-K7t",
        "colab": {
          "base_uri": "https://localhost:8080/"
        },
        "outputId": "f4f2c2b6-fe38-4cc9-b8c7-e32e3c59a3e2"
      },
      "execution_count": 4,
      "outputs": [
        {
          "output_type": "execute_result",
          "data": {
            "text/plain": [
              "28"
            ]
          },
          "metadata": {},
          "execution_count": 4
        }
      ]
    },
    {
      "cell_type": "markdown",
      "source": [
        "storage mechanism"
      ],
      "metadata": {
        "id": "vtndfDA6DOMf"
      }
    },
    {
      "cell_type": "code",
      "source": [
        "from abc import ABC ,abstractmethod\n",
        "\n",
        "class Storage(ABC):\n",
        "  @abstractmethod         #abstractmethod 1\n",
        "  def save_data(self):\n",
        "    pass\n",
        "  @abstractmethod         #abstractmethod 2\n",
        "  def read_data(self):\n",
        "    pass\n",
        "\n",
        "\n",
        "class FileStorage(Storage): #child class\n",
        "    def save_data(self):\n",
        "      pass\n",
        "    def read_data(self):\n",
        "     pass\n",
        "\n",
        "class DatabaseStorage(Storage): #child class\n",
        "  def save_data(self):\n",
        "    pass\n",
        "  def read_data(self):\n",
        "    pass\n",
        "\n",
        "obj = FileStorage()# as there is only pass statement there will be no answer displayed\n",
        "obj.read_data()"
      ],
      "metadata": {
        "id": "gwFlKgf-4h_9"
      },
      "execution_count": 19,
      "outputs": []
    },
    {
      "cell_type": "code",
      "source": [],
      "metadata": {
        "id": "ebDK8PshEOvM"
      },
      "execution_count": null,
      "outputs": []
    }
  ]
}